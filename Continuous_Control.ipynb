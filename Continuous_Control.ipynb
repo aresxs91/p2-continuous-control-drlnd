{
 "cells": [
  {
   "cell_type": "markdown",
   "metadata": {},
   "source": [
    "# Continuous Control\n",
    "\n",
    "---\n",
    "\n",
    "You are welcome to use this coding environment to train your agent for the project.  Follow the instructions below to get started!\n",
    "\n",
    "### 1. Start the Environment\n",
    "\n",
    "Run the next code cell to install a few packages.  This line will take a few minutes to run!"
   ]
  },
  {
   "cell_type": "code",
   "execution_count": 1,
   "metadata": {},
   "outputs": [
    {
     "name": "stdout",
     "output_type": "stream",
     "text": [
      "\u001b[31mtensorflow 1.7.1 has requirement numpy>=1.13.3, but you'll have numpy 1.12.1 which is incompatible.\u001b[0m\r\n",
      "\u001b[31mipython 6.5.0 has requirement prompt-toolkit<2.0.0,>=1.0.15, but you'll have prompt-toolkit 3.0.5 which is incompatible.\u001b[0m\r\n"
     ]
    }
   ],
   "source": [
    "!pip -q install ./python"
   ]
  },
  {
   "cell_type": "markdown",
   "metadata": {},
   "source": [
    "The environments corresponding to both versions of the environment are already saved in the Workspace and can be accessed at the file paths provided below.  \n",
    "\n",
    "Please select one of the two options below for loading the environment."
   ]
  },
  {
   "cell_type": "code",
   "execution_count": null,
   "metadata": {},
   "outputs": [],
   "source": [
    "from unityagents import UnityEnvironment\n",
    "import numpy as np\n",
    "\n",
    "# select this option to load version 1 (with a single agent) of the environment\n",
    "# env = UnityEnvironment(file_name='/data/Reacher_One_Linux_NoVis/Reacher_One_Linux_NoVis.x86_64')\n",
    "\n",
    "# select this option to load version 2 (with 20 agents) of the environment\n",
    "env = UnityEnvironment(file_name='/data/Reacher_Linux_NoVis/Reacher.x86_64')"
   ]
  },
  {
   "cell_type": "markdown",
   "metadata": {},
   "source": [
    "Environments contain **_brains_** which are responsible for deciding the actions of their associated agents. Here we check for the first brain available, and set it as the default brain we will be controlling from Python."
   ]
  },
  {
   "cell_type": "code",
   "execution_count": null,
   "metadata": {},
   "outputs": [],
   "source": [
    "# get the default brain\n",
    "brain_name = env.brain_names[0]\n",
    "brain = env.brains[brain_name]"
   ]
  },
  {
   "cell_type": "markdown",
   "metadata": {},
   "source": [
    "### 2. Examine the State and Action Spaces\n",
    "\n",
    "Run the code cell below to print some information about the environment."
   ]
  },
  {
   "cell_type": "code",
   "execution_count": 2,
   "metadata": {},
   "outputs": [],
   "source": [
    "# reset the environment\n",
    "env_info = env.reset(train_mode=True)[brain_name]\n",
    "\n",
    "# number of agents\n",
    "num_agents = len(env_info.agents)\n",
    "print('Number of agents:', num_agents)\n",
    "\n",
    "# size of each action\n",
    "action_size = brain.vector_action_space_size\n",
    "print('Size of each action:', action_size)\n",
    "\n",
    "# examine the state space \n",
    "states = env_info.vector_observations\n",
    "state_size = states.shape[1]\n",
    "print('There are {} agents. Each observes a state with length: {}'.format(states.shape[0], state_size))\n",
    "print('The state for the first agent looks like:', states[0])"
   ]
  },
  {
   "cell_type": "markdown",
   "metadata": {},
   "source": [
    "### 3. Take Random Actions in the Environment\n",
    "\n",
    "In the next code cell, you will learn how to use the Python API to control the agent and receive feedback from the environment.\n",
    "\n",
    "Note that **in this coding environment, you will not be able to watch the agents while they are training**, and you should set `train_mode=True` to restart the environment."
   ]
  },
  {
   "cell_type": "code",
   "execution_count": null,
   "metadata": {},
   "outputs": [],
   "source": [
    "env_info = env.reset(train_mode=True)[brain_name]      # reset the environment    \n",
    "states = env_info.vector_observations                  # get the current state (for each agent)\n",
    "scores = np.zeros(num_agents)                          # initialize the score (for each agent)\n",
    "while True:\n",
    "    actions = np.random.randn(num_agents, action_size) # select an action (for each agent)\n",
    "    actions = np.clip(actions, -1, 1)                  # all actions between -1 and 1\n",
    "    env_info = env.step(actions)[brain_name]           # send all actions to tne environment\n",
    "    next_states = env_info.vector_observations         # get next state (for each agent)\n",
    "    rewards = env_info.rewards                         # get reward (for each agent)\n",
    "    dones = env_info.local_done                        # see if episode finished\n",
    "    scores += env_info.rewards                         # update the score (for each agent)\n",
    "    states = next_states                               # roll over states to next time step\n",
    "    if np.any(dones):                                  # exit loop if episode finished\n",
    "        break\n",
    "print('Total score (averaged over agents) this episode: {}'.format(np.mean(scores)))"
   ]
  },
  {
   "cell_type": "markdown",
   "metadata": {},
   "source": [
    "When finished, you can close the environment."
   ]
  },
  {
   "cell_type": "code",
   "execution_count": null,
   "metadata": {},
   "outputs": [],
   "source": [
    "env.close()"
   ]
  },
  {
   "cell_type": "markdown",
   "metadata": {},
   "source": [
    "### 4. It's Your Turn!\n",
    "\n",
    "Now it's your turn to train your own agent to solve the environment!  A few **important notes**:\n",
    "- When training the environment, set `train_mode=True`, so that the line for resetting the environment looks like the following:\n",
    "```python\n",
    "env_info = env.reset(train_mode=True)[brain_name]\n",
    "```\n",
    "- To structure your work, you're welcome to work directly in this Jupyter notebook, or you might like to start over with a new file!  You can see the list of files in the workspace by clicking on **_Jupyter_** in the top left corner of the notebook.\n",
    "- In this coding environment, you will not be able to watch the agents while they are training.  However, **_after training the agents_**, you can download the saved model weights to watch the agents on your own machine! "
   ]
  },
  {
   "cell_type": "code",
   "execution_count": 3,
   "metadata": {},
   "outputs": [],
   "source": [
    "import numpy as np\n",
    "import workspace_utils\n",
    "\n",
    "from unityagents import UnityEnvironment\n",
    "from datetime import datetime\n",
    "from torch import optim\n",
    "from config import Config\n",
    "from memory import ReplayBuffer\n",
    "from unityagents import UnityEnvironment\n",
    "from utils import OrnsteinUhlenbeck\n",
    "from model.ddpg_agent import Agent as ddpg_agent\n",
    "from model.ddpg_agent import run as ddpg_agent_run\n",
    "from model.ddpg_actor import Actor as ddpg_actor\n",
    "from model.ddpg_critic import Critic as ddpg_critic"
   ]
  },
  {
   "cell_type": "code",
   "execution_count": 4,
   "metadata": {},
   "outputs": [],
   "source": [
    "args = {}\n",
    "\n",
    "args[\"epsilon\"] = 1.\n",
    "args[\"discount\"] = .99\n",
    "args[\"epsilon_decay\"] = .99\n",
    "args[\"target_mix\"] = 1e-3\n",
    "args[\"max_episodes\"] = int(2000)\n",
    "args[\"max_steps\"] = int(1e6)\n",
    "args[\"buffer_size\"] = int(1e6)\n",
    "args[\"seed\"] = 6\n",
    "args[\"fc1_units\"] = 256\n",
    "args[\"reacher_fp\"] = '/data/Reacher_Linux_NoVis/Reacher.x86_64'\n",
    "args[\"fc2_units\"] = 256\n",
    "args[\"lr_actor\"] = 1e-4\n",
    "args[\"lr_critic\"] = 1e-3\n",
    "args[\"batch_size\"] = 128\n",
    "args[\"learn_every\"] = 20\n",
    "args[\"learn_number\"] = 10"
   ]
  },
  {
   "cell_type": "code",
   "execution_count": 5,
   "metadata": {},
   "outputs": [],
   "source": [
    "# Reload if necessary\n",
    "local_actor_saved_model = None\n",
    "local_critic_saved_model = None\n",
    "target_actor_saved_model = None\n",
    "target_critic_saved_model = None"
   ]
  },
  {
   "cell_type": "code",
   "execution_count": 6,
   "metadata": {},
   "outputs": [
    {
     "name": "stderr",
     "output_type": "stream",
     "text": [
      "INFO:unityagents:\n",
      "'Academy' started successfully!\n",
      "Unity Academy name: Academy\n",
      "        Number of Brains: 1\n",
      "        Number of External Brains : 1\n",
      "        Lesson number : 0\n",
      "        Reset Parameters :\n",
      "\t\tgoal_size -> 5.0\n",
      "\t\tgoal_speed -> 1.0\n",
      "Unity brain name: ReacherBrain\n",
      "        Number of Visual Observations (per agent): 0\n",
      "        Vector Observation space type: continuous\n",
      "        Vector Observation space size (per agent): 33\n",
      "        Number of stacked Vector Observation: 1\n",
      "        Vector Action space type: continuous\n",
      "        Vector Action space size (per agent): 4\n",
      "        Vector Action descriptions: , , , \n"
     ]
    },
    {
     "name": "stdout",
     "output_type": "stream",
     "text": [
      "DDPG Agent using:  cuda:0\n",
      "ReplayBuffer using:  cuda:0\n",
      "Episode No. 5\tAverage reward: 3.40\tAverage reward over 100 episodes: 2.33\n",
      "Episode No. 10\tAverage reward: 5.13\tAverage reward over 100 episodes: 3.31\n",
      "Episode No. 15\tAverage reward: 6.58\tAverage reward over 100 episodes: 4.14\n",
      "Episode No. 20\tAverage reward: 7.95\tAverage reward over 100 episodes: 4.96\n",
      "Episode No. 25\tAverage reward: 12.46\tAverage reward over 100 episodes: 6.15\n",
      "Episode No. 30\tAverage reward: 11.06\tAverage reward over 100 episodes: 7.18\n",
      "Episode No. 35\tAverage reward: 12.57\tAverage reward over 100 episodes: 7.98\n",
      "Episode No. 40\tAverage reward: 12.74\tAverage reward over 100 episodes: 8.60\n",
      "Episode No. 45\tAverage reward: 13.89\tAverage reward over 100 episodes: 9.26\n",
      "Episode No. 50\tAverage reward: 18.54\tAverage reward over 100 episodes: 10.12\n",
      "Episode No. 55\tAverage reward: 18.59\tAverage reward over 100 episodes: 10.87\n",
      "Episode No. 60\tAverage reward: 19.36\tAverage reward over 100 episodes: 11.52\n",
      "Episode No. 65\tAverage reward: 19.31\tAverage reward over 100 episodes: 12.10\n",
      "Episode No. 70\tAverage reward: 21.39\tAverage reward over 100 episodes: 12.76\n",
      "Episode No. 75\tAverage reward: 22.87\tAverage reward over 100 episodes: 13.38\n",
      "Episode No. 80\tAverage reward: 23.11\tAverage reward over 100 episodes: 14.02\n",
      "Episode No. 85\tAverage reward: 24.60\tAverage reward over 100 episodes: 14.65\n",
      "Episode No. 90\tAverage reward: 26.62\tAverage reward over 100 episodes: 15.32\n",
      "Episode No. 95\tAverage reward: 31.32\tAverage reward over 100 episodes: 16.05\n",
      "Episode No. 100\tAverage reward: 32.17\tAverage reward over 100 episodes: 16.80\n",
      "Episode No. 105\tAverage reward: 31.43\tAverage reward over 100 episodes: 18.29\n",
      "Episode No. 110\tAverage reward: 33.70\tAverage reward over 100 episodes: 19.74\n",
      "Episode No. 115\tAverage reward: 34.43\tAverage reward over 100 episodes: 21.15\n",
      "Episode No. 120\tAverage reward: 33.53\tAverage reward over 100 episodes: 22.50\n",
      "Episode No. 125\tAverage reward: 34.72\tAverage reward over 100 episodes: 23.71\n",
      "Episode No. 130\tAverage reward: 35.26\tAverage reward over 100 episodes: 24.88\n",
      "Episode No. 135\tAverage reward: 37.29\tAverage reward over 100 episodes: 26.07\n",
      "Episode No. 140\tAverage reward: 35.49\tAverage reward over 100 episodes: 27.25\n",
      "Episode No. 145\tAverage reward: 31.88\tAverage reward over 100 episodes: 28.28\n",
      "Episode No. 150\tAverage reward: 34.13\tAverage reward over 100 episodes: 29.19\n",
      "Episode No. 155\tAverage reward: 36.90\tAverage reward over 100 episodes: 30.03\n",
      "\n",
      "Environment solved in 55 episodes!\tAverage score over 100 episodes: 30.03\n"
     ]
    }
   ],
   "source": [
    "from workspace_utils import active_session\n",
    "\n",
    "config = Config(seed=args[\"seed\"])\n",
    "config.env = UnityEnvironment(file_name=args[\"reacher_fp\"])\n",
    "\n",
    "config.brain_name = config.env.brain_names[0]\n",
    "env_info = config.env.reset(train_mode=True)[config.brain_name]\n",
    "config.num_agents = len(env_info.agents)\n",
    "\n",
    "config.state_size = env_info.vector_observations.shape[1]\n",
    "config.action_size = config.env.brains[config.brain_name].vector_action_space_size\n",
    "\n",
    "config.actor_fn = lambda: ddpg_actor(config.state_size, config.action_size,\n",
    "                                     fc1_units=args[\"fc1_units\"], fc2_units=args[\"fc2_units\"])\n",
    "\n",
    "config.actor_opt_fn = lambda params: optim.Adam(params, lr=args[\"lr_actor\"])\n",
    "\n",
    "config.local_actor_saved_model = local_actor_saved_model \n",
    "\n",
    "config.critic_fn = lambda: ddpg_critic(config.state_size, config.action_size,\n",
    "                                       fc1_units=args[\"fc1_units\"], fc2_units=args[\"fc2_units\"])\n",
    "config.critic_opt_fn = lambda params: optim.Adam(params, lr=args[\"lr_critic\"])\n",
    "\n",
    "config.local_critic_saved_model = local_critic_saved_model\n",
    "\n",
    "config.replay_fn = lambda: ReplayBuffer(config.action_size, buffer_size=args[\"buffer_size\"], batch_size=args[\"batch_size\"],\n",
    "                                        seed=args[\"seed\"], device=config.device\n",
    "                                        )\n",
    "config.noise_fn = lambda: OrnsteinUhlenbeck(config.action_size, mu=0., theta=0.15, sigma=0.05)\n",
    "\n",
    "# Time specific outputs..\n",
    "cur_ts = str(int(datetime.now().timestamp() * 1000))\n",
    "config.local_actor_path = 'local_actor_' + cur_ts + '.pth'\n",
    "config.local_critic_path = 'local_critic_' + cur_ts + '.pth'\n",
    "\n",
    "config.target_actor_path = 'target_actor_' + cur_ts + '.pth'\n",
    "config.target_critic_path = 'target_critic_' + cur_ts + '.pth'\n",
    "\n",
    "config.scores_path = 'scores_' + cur_ts + '.png'\n",
    "\n",
    "# Update from command line arguments\n",
    "config.discount = args[\"discount\"]\n",
    "config.target_mix = args[\"target_mix\"]\n",
    "config.epsilon = args[\"epsilon\"]\n",
    "config.epsilon_decay = args[\"epsilon_decay\"]\n",
    "\n",
    "config.max_episodes = args[\"max_episodes\"]\n",
    "config.max_steps = args[\"max_steps\"]\n",
    "\n",
    "config.learn_every = args[\"learn_every\"]\n",
    "config.learn_number = args[\"learn_number\"]\n",
    "\n",
    "agent = ddpg_agent(config)\n",
    "\n",
    "with active_session():\n",
    "    scores = ddpg_agent_run(agent, print_every=5)"
   ]
  },
  {
   "cell_type": "code",
   "execution_count": 9,
   "metadata": {},
   "outputs": [],
   "source": [
    "import matplotlib.pyplot as plt"
   ]
  },
  {
   "cell_type": "code",
   "execution_count": 10,
   "metadata": {},
   "outputs": [
    {
     "data": {
      "image/png": "[encoded data removed]",
      "text/plain": [
       "<matplotlib.figure.Figure at 0x7f7cfabba7b8>"
      ]
     },
     "metadata": {
      "needs_background": "light"
     },
     "output_type": "display_data"
    }
   ],
   "source": [
    "fig, ax = plt.subplots()\n",
    "ax.plot(np.arange(1, len(scores) + 1), scores)\n",
    "ax.set_ylabel('Agent score')\n",
    "ax.set_xlabel('Episode no.')\n",
    "fig.savefig(config.scores_path)\n",
    "plt.show()"
   ]
  },
  {
   "cell_type": "code",
   "execution_count": null,
   "metadata": {},
   "outputs": [],
   "source": []
  }
 ],
 "metadata": {
  "kernelspec": {
   "display_name": "Python 3",
   "language": "python",
   "name": "python3"
  },
  "language_info": {
   "codemirror_mode": {
    "name": "ipython",
    "version": 3
   },
   "file_extension": ".py",
   "mimetype": "text/x-python",
   "name": "python",
   "nbconvert_exporter": "python",
   "pygments_lexer": "ipython3",
   "version": "3.6.3"
  }
 },
 "nbformat": 4,
 "nbformat_minor": 2
}
